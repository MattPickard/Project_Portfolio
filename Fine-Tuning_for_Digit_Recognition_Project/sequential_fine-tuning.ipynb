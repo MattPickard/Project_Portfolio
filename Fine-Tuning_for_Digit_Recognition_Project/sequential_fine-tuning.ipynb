{
 "cells": [
  {
   "cell_type": "code",
   "execution_count": 1,
   "metadata": {},
   "outputs": [],
   "source": [
    "import numpy as np\n",
    "import pickle\n",
    "import optuna\n",
    "from tensorflow.keras.callbacks import EarlyStopping\n",
    "from tensorflow.keras.optimizers import Adam\n",
    "from tensorflow.keras.models import load_model\n",
    "import matplotlib.pyplot as plt\n",
    "import seaborn as sns\n",
    "from sklearn.metrics import accuracy_score"
   ]
  },
  {
   "cell_type": "code",
   "execution_count": 2,
   "metadata": {},
   "outputs": [],
   "source": [
    "# Load training data of 0 digit samples\n",
    "with open('digit_0_train.pkl', 'rb') as f:\n",
    "    digit_0_train = pickle.load(f)  # List of tuples (image, label)\n",
    "# Load full test set\n",
    "with open('full_test.pkl', 'rb') as f:\n",
    "    full_test = pickle.load(f)  # Tuple (x_test, y_test) for the full test dataset\n",
    "\n",
    "\n",
    "test_images, test_labels = full_test\n",
    "train_images, train_labels = zip(*digit_0_train)\n",
    "\n",
    "# Reshape data to be 28x28x1 and normalize pixel values\n",
    "train_images = np.array(train_images).reshape((-1, 28, 28, 1)) / 255.0\n",
    "train_labels = np.array(train_labels)\n",
    "test_images = np.array(test_images).reshape((-1, 28, 28, 1)) / 255.0\n",
    "test_labels = np.array(test_labels)"
   ]
  },
  {
   "cell_type": "code",
   "execution_count": null,
   "metadata": {},
   "outputs": [],
   "source": [
    "# Define Optuna trail for hyper-parameter optimization\n",
    "def objective(trial):\n",
    "    # Load the pre-trained model\n",
    "    model = load_model('base_cnn_model.keras')\n",
    "    \n",
    "    # Define hyperparameters to optimize\n",
    "    learning_rate = trial.suggest_float('learning_rate', .0000001, .0001, log=True)\n",
    "    epochs = trial.suggest_int('epochs', 5, 30)\n",
    "    \n",
    "    # Freeze early layers\n",
    "    for layer in model.layers[:-4]:\n",
    "        layer.trainable = False\n",
    "    \n",
    "    model.compile(\n",
    "        optimizer=Adam(learning_rate=learning_rate),\n",
    "        loss=\"sparse_categorical_crossentropy\",\n",
    "        metrics=[\"accuracy\"]\n",
    "    )\n",
    "    \n",
    "    history = model.fit(\n",
    "        train_images, train_labels,\n",
    "        epochs=epochs,\n",
    "        validation_split=0.2,\n",
    "        callbacks=[EarlyStopping(monitor='val_loss', patience=3, restore_best_weights=True)],\n",
    "        verbose=0\n",
    "    )\n",
    "    \n",
    "    # Evaluate on test set\n",
    "    _, test_acc = model.evaluate(test_images, test_labels, verbose=0)\n",
    "\n",
    "    return test_acc\n",
    "\n",
    "# Create and run the study\n",
    "study = optuna.create_study(direction='maximize')\n",
    "study.optimize(objective, n_trials=100)  # 100 trails\n",
    "\n",
    "print('Best trial:')\n",
    "trial = study.best_trial\n",
    "print(f'  Value: {trial.value:.4f}')\n",
    "print('  Params:')\n",
    "for key, value in trial.params.items():\n",
    "    print(f'    {key}: {value}')"
   ]
  },
  {
   "cell_type": "code",
   "execution_count": null,
   "metadata": {},
   "outputs": [],
   "source": [
    "# Train model with best hyperparameters\n",
    "best_lr = study.best_params['learning_rate']\n",
    "best_epochs = study.best_params['epochs']\n",
    "\n",
    "# Load fresh model\n",
    "model = load_model('base_cnn_model.keras')\n",
    "\n",
    "# Freeze early layers\n",
    "for layer in model.layers[:-4]:\n",
    "    layer.trainable = False\n",
    "\n",
    "model.compile(\n",
    "    optimizer=Adam(learning_rate=best_lr),\n",
    "    loss=\"sparse_categorical_crossentropy\",\n",
    "    metrics=[\"accuracy\"]\n",
    ")\n",
    "\n",
    "history = model.fit(\n",
    "    train_images, train_labels,\n",
    "    epochs=best_epochs,\n",
    "    validation_split=0.2,\n",
    "    callbacks=[EarlyStopping(monitor='val_loss', patience=3, restore_best_weights=True)]\n",
    ")\n",
    "\n",
    "# Evaluate accuracy on the full test set\n",
    "test_loss, test_acc = model.evaluate(test_images, test_labels)\n",
    "print(f'Final test accuracy: {test_acc:.4f}')"
   ]
  },
  {
   "cell_type": "code",
   "execution_count": 6,
   "metadata": {},
   "outputs": [],
   "source": [
    "# Saved model full test accuracy: 0.9822\n",
    "model.save('sequential_fine-tuned_model.keras')"
   ]
  },
  {
   "cell_type": "code",
   "execution_count": 5,
   "metadata": {},
   "outputs": [
    {
     "name": "stdout",
     "output_type": "stream",
     "text": [
      "\u001b[1m313/313\u001b[0m \u001b[32m━━━━━━━━━━━━━━━━━━━━\u001b[0m\u001b[37m\u001b[0m \u001b[1m2s\u001b[0m 4ms/step - accuracy: 0.9799 - loss: 0.0965\n",
      "\u001b[1m313/313\u001b[0m \u001b[32m━━━━━━━━━━━━━━━━━━━━\u001b[0m\u001b[37m\u001b[0m \u001b[1m1s\u001b[0m 3ms/step\n",
      "\u001b[1m31/31\u001b[0m \u001b[32m━━━━━━━━━━━━━━━━━━━━\u001b[0m\u001b[37m\u001b[0m \u001b[1m0s\u001b[0m 3ms/step\n",
      "Full test accuracy: 0.9822\n",
      "Accuracy for digit 0: 0.9786\n"
     ]
    },
    {
     "data": {
      "image/png": "[encoded data removed]",
      "text/plain": [
       "<Figure size 800x600 with 1 Axes>"
      ]
     },
     "metadata": {},
     "output_type": "display_data"
    }
   ],
   "source": [
    "# Full test accuracy\n",
    "_, test_acc = model.evaluate(test_images, test_labels)\n",
    "\n",
    "# Accuracy for just digit '0'\n",
    "# Get predictions for all test data\n",
    "y_pred = np.argmax(model.predict(test_images), axis=1)\n",
    "\n",
    "# Find indices of digit '0' in test set\n",
    "zero_indices = np.where(test_labels == 0)[0]\n",
    "zero_images = test_images[zero_indices]\n",
    "zero_true_labels = test_labels[zero_indices]\n",
    "\n",
    "# Get predictions for digit '0' samples\n",
    "zero_pred = np.argmax(model.predict(zero_images), axis=1)\n",
    "\n",
    "# Calculate accuracy for digit '0'\n",
    "zero_accuracy = accuracy_score(zero_true_labels, zero_pred)\n",
    "\n",
    "print(f'Full test accuracy: {test_acc:.4f}')\n",
    "print(f'Accuracy for digit 0: {zero_accuracy:.4f}')\n",
    "\n",
    "# Calculate number of false positives, false negatives, true positives, and true negatives for digit '0'\n",
    "false_positives = np.sum((y_pred == 0) & (test_labels != 0))\n",
    "false_negatives = np.sum((y_pred != 0) & (test_labels == 0))\n",
    "true_positives = np.sum((y_pred == 0) & (test_labels == 0))\n",
    "true_negatives = np.sum((y_pred != 0) & (test_labels != 0))\n",
    "\n",
    "# Set up confusion matrix structure\n",
    "conf_matrix = np.array([[true_positives, false_negatives], [false_positives, true_negatives]])\n",
    "\n",
    "# Create confusion matrix\n",
    "plt.figure(figsize=(8, 6))\n",
    "sns.heatmap(conf_matrix, annot=True, fmt='d', cmap='Blues', \n",
    "            xticklabels=['Predicted 0', 'Predicted Other'], \n",
    "            yticklabels=['Actual 0', 'Actual Other'], \n",
    "            cbar=False)\n",
    "plt.title(\"'0' Digit Confusion Matrix\")\n",
    "plt.show()"
   ]
  }
 ],
 "metadata": {
  "kernelspec": {
   "display_name": "Python 3",
   "language": "python",
   "name": "python3"
  },
  "language_info": {
   "codemirror_mode": {
    "name": "ipython",
    "version": 3
   },
   "file_extension": ".py",
   "mimetype": "text/x-python",
   "name": "python",
   "nbconvert_exporter": "python",
   "pygments_lexer": "ipython3",
   "version": "3.10.6"
  }
 },
 "nbformat": 4,
 "nbformat_minor": 2
}
