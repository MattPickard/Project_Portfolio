{
 "cells": [
  {
   "cell_type": "code",
   "execution_count": 1,
   "metadata": {},
   "outputs": [],
   "source": [
    "import h5py\n",
    "import tensorflow as tf\n",
    "import numpy as np\n",
    "import pandas as pd\n",
    "from tensorflow.keras.saving import register_keras_serializable\n",
    "from tensorflow.keras.models import Model\n",
    "from tensorflow.keras.layers import Input, Conv1D, BatchNormalization, GlobalAveragePooling1D, Dense\n",
    "from tensorflow.keras.optimizers import AdamW\n",
    "from tensorflow.keras.callbacks import EarlyStopping\n",
    "from tensorflow.keras.optimizers.schedules import ExponentialDecay"
   ]
  },
  {
   "cell_type": "code",
   "execution_count": 2,
   "metadata": {},
   "outputs": [],
   "source": [
    "# Load h5 data\n",
    "with h5py.File('data\\\\train_df_30.h5', 'r') as f:\n",
    "    x_train = f['x'][:]\n",
    "    y_train = f['y'][:]\n",
    "with h5py.File('data\\\\validation_df_30.h5', 'r') as f:\n",
    "    x_validation = f['x'][:]\n",
    "    y_validation = f['y'][:]\n",
    "with h5py.File('data\\\\test_unit_13_30.h5', 'r') as f:\n",
    "    x_test_13 = f['x'][:]\n",
    "    y_test_13 = f['y'][:]\n",
    "with h5py.File('data\\\\test_unit_14_30.h5', 'r') as f:\n",
    "    x_test_14 = f['x'][:]\n",
    "    y_test_14 = f['y'][:]\n",
    "with h5py.File('data\\\\test_unit_15_30.h5', 'r') as f:\n",
    "    x_test_15 = f['x'][:]\n",
    "    y_test_15 = f['y'][:]"
   ]
  },
  {
   "cell_type": "code",
   "execution_count": 3,
   "metadata": {},
   "outputs": [],
   "source": [
    "# Convert to tf tensors\n",
    "X_train = tf.convert_to_tensor(x_train, dtype=tf.float32)\n",
    "y_train = tf.convert_to_tensor(y_train, dtype=tf.float32)\n",
    "X_validation = tf.convert_to_tensor(x_validation, dtype=tf.float32)\n",
    "y_validation = tf.convert_to_tensor(y_validation, dtype=tf.float32)"
   ]
  },
  {
   "cell_type": "code",
   "execution_count": 4,
   "metadata": {},
   "outputs": [],
   "source": [
    "# Separate into y labels (RUL and HS)\n",
    "y_train = [tf.convert_to_tensor(y_train[:,0], dtype=tf.float32), \n",
    "           tf.convert_to_tensor(y_train[:,1], dtype=tf.float32)]\n",
    "y_validation = [tf.convert_to_tensor(y_validation[:,0], dtype=tf.float32), \n",
    "                tf.convert_to_tensor(y_validation[:,1], dtype=tf.float32)]"
   ]
  },
  {
   "cell_type": "code",
   "execution_count": 5,
   "metadata": {},
   "outputs": [
    {
     "name": "stdout",
     "output_type": "stream",
     "text": [
      "(1028672, 30, 18)\n",
      "tf.Tensor([45.  8. 21. ... 44. 59. 54.], shape=(1028672,), dtype=float32)\n",
      "tf.Tensor([0. 0. 0. ... 1. 1. 1.], shape=(1028672,), dtype=float32)\n",
      "(114297, 30, 18)\n",
      "tf.Tensor([53. 32. 53. ... 36. 63. 60.], shape=(114297,), dtype=float32)\n",
      "tf.Tensor([1. 0. 0. ... 0. 1. 1.], shape=(114297,), dtype=float32)\n"
     ]
    }
   ],
   "source": [
    "# Check shape of data\n",
    "print(X_train.shape)\n",
    "print(y_train[0])\n",
    "print(y_train[1])\n",
    "print(X_validation.shape)\n",
    "print(y_validation[0])\n",
    "print(y_validation[1])"
   ]
  },
  {
   "cell_type": "code",
   "execution_count": 6,
   "metadata": {},
   "outputs": [
    {
     "name": "stdout",
     "output_type": "stream",
     "text": [
      "Y_train RUL Cycles Min: 0.0\n",
      "Y_train RUL Cycles Max: 92.0\n",
      "Y_train Health State Min: 0.0\n",
      "Y_train Health State Max: 1.0\n",
      "Y_train RUL Cycles Average: 34.2329\n",
      "Y_train Health State Average: 0.3089634\n"
     ]
    }
   ],
   "source": [
    "# Check min, max, and average of y labels\n",
    "print(\"Y_train RUL Cycles Min:\", tf.reduce_min(y_train[0]).numpy())\n",
    "print(\"Y_train RUL Cycles Max:\", tf.reduce_max(y_train[0]).numpy())\n",
    "print(\"Y_train Health State Min:\", tf.reduce_min(y_train[1]).numpy())\n",
    "print(\"Y_train Health State Max:\", tf.reduce_max(y_train[1]).numpy())\n",
    "print(\"Y_train RUL Cycles Average:\", tf.reduce_mean(y_train[0]).numpy())\n",
    "print(\"Y_train Health State Average:\", tf.reduce_mean(y_train[1]).numpy())"
   ]
  },
  {
   "cell_type": "code",
   "execution_count": 7,
   "metadata": {},
   "outputs": [
    {
     "name": "stdout",
     "output_type": "stream",
     "text": [
      "1071\n",
      "1785\n"
     ]
    }
   ],
   "source": [
    "TIME_STEPS = 30\n",
    "BATCH_SIZE = 64\n",
    "steps_per_epoch = int(len(X_train)// BATCH_SIZE // 15)\n",
    "validation_steps = int(len(X_validation)// BATCH_SIZE)\n",
    "EPOCHS = 500\n",
    "print(steps_per_epoch)\n",
    "print(validation_steps)"
   ]
  },
  {
   "cell_type": "code",
   "execution_count": 8,
   "metadata": {},
   "outputs": [],
   "source": [
    "def create_rul_generator(X, y, batch_size):\n",
    "    \"\"\"\n",
    "    Generator function to yield batches of input features and RUL labels.\n",
    "\n",
    "    Args:\n",
    "        X (tf.Tensor): Input features tensor.\n",
    "        y (list): List containing tensors for labels, where y[0] corresponds to RUL labels.\n",
    "        batch_size (int): Number of samples per batch.\n",
    "\n",
    "    Yields:\n",
    "        tuple: A tuple containing a batch of input features and the corresponding RUL labels.\n",
    "    \"\"\"\n",
    "    while True:\n",
    "        for i in range(0, len(X), batch_size):\n",
    "            yield X[i:i+batch_size], y[0][i:i+batch_size]\n",
    "\n",
    "train_rul_generator = create_rul_generator(X_train, y_train, BATCH_SIZE)\n",
    "validation_rul_generator = create_rul_generator(X_validation, y_validation, BATCH_SIZE)\n",
    "\n",
    "def create_hs_generator(X, y, batch_size):\n",
    "    \"\"\"\n",
    "    Generator function to yield batches of input features and health state labels.\n",
    "\n",
    "    Args:\n",
    "        X (tf.Tensor): Input features tensor.\n",
    "        y (list): List containing tensors for labels, where y[1] corresponds to health state labels.\n",
    "        batch_size (int): Number of samples per batch.\n",
    "\n",
    "    Yields:\n",
    "        tuple: A tuple containing a batch of input features and the corresponding health state labels.\n",
    "    \"\"\"\n",
    "    while True:\n",
    "        for i in range(0, len(X), batch_size):\n",
    "            yield X[i:i+batch_size], y[1][i:i+batch_size]\n",
    "\n",
    "train_hs_generator = create_hs_generator(X_train, y_train, BATCH_SIZE)\n",
    "validation_hs_generator = create_hs_generator(X_validation, y_validation, BATCH_SIZE)"
   ]
  },
  {
   "cell_type": "code",
   "execution_count": 9,
   "metadata": {},
   "outputs": [],
   "source": [
    "# Define input shape\n",
    "input_shape = (TIME_STEPS, x_train.shape[2])\n",
    "\n",
    "# Create input layer\n",
    "inputs = Input(shape=input_shape, name='Input_Layer')"
   ]
  },
  {
   "cell_type": "code",
   "execution_count": 10,
   "metadata": {},
   "outputs": [],
   "source": [
    "def create_hs_model(inputs):\n",
    "    # Conv1D Block\n",
    "    x = Conv1D(filters=512, kernel_size=3, strides=1, activation='relu',\n",
    "                               padding='same', name='Conv1D_Layer1', use_bias=False)(inputs)\n",
    "    x = BatchNormalization()(x)\n",
    "    x = GlobalAveragePooling1D()(x)\n",
    "\n",
    "    # First Dense Block\n",
    "    x = Dense(units=2048, activation='relu', kernel_regularizer=tf.keras.regularizers.l2(0.025))(x)\n",
    "    x = BatchNormalization()(x)\n",
    "\n",
    "    # Following Dense Blocks\n",
    "    for i in range(7):\n",
    "      x = Dense(units=128, activation='relu', kernel_regularizer=tf.keras.regularizers.l2(0.025))(x)\n",
    "      x = BatchNormalization()(x)\n",
    "\n",
    "    # Output Layer\n",
    "    health_state = Dense(1, activation='sigmoid', name='Health_State')(x)\n",
    "\n",
    "    # Define the model\n",
    "    model = Model(inputs=inputs, outputs=[health_state])\n",
    "    \n",
    "    # Define learning rate schedule\n",
    "    lr_schedule = ExponentialDecay(initial_learning_rate=.0005, decay_steps=steps_per_epoch, decay_rate=.78)\n",
    "    \n",
    "    # Compile the model with a lower learning rate\n",
    "    optimizer = AdamW(learning_rate=lr_schedule)\n",
    "    model.compile(optimizer=optimizer,\n",
    "                  loss={'Health_State': 'binary_crossentropy'},\n",
    "                  metrics={'Health_State': 'accuracy'})\n",
    "\n",
    "    return model\n",
    "\n",
    "hs_model = create_hs_model(inputs)"
   ]
  },
  {
   "cell_type": "code",
   "execution_count": 11,
   "metadata": {},
   "outputs": [],
   "source": [
    "def custom_loss(y_true, y_pred):\n",
    "    penalty_weight = .05\n",
    "    mse = tf.reduce_mean(tf.square(y_true - y_pred))\n",
    "    penalty = tf.reduce_mean(tf.square(tf.maximum(y_pred - y_true, 0)))\n",
    "    total_loss = mse + penalty_weight * penalty\n",
    "    return total_loss\n",
    "\n",
    "def create_rul_model(inputs):\n",
    "    # Conv1D Block\n",
    "    x = Conv1D(filters=512, kernel_size=3, strides=1, activation='relu',\n",
    "                               padding='same', name='Conv1D_Layer1', use_bias=False)(inputs)\n",
    "    x = BatchNormalization(name='BatchNorm_Layer1')(x)\n",
    "    x = GlobalAveragePooling1D()(x)\n",
    "\n",
    "    # First Dense Block\n",
    "    x = Dense(units=2048, activation='relu', kernel_regularizer=tf.keras.regularizers.l2(0.025))(x)\n",
    "    x = BatchNormalization()(x)\n",
    "\n",
    "    # Following Dense Blocks\n",
    "    for i in range(7):\n",
    "      x = Dense(units=128, activation='relu', kernel_regularizer=tf.keras.regularizers.l2(0.025))(x)\n",
    "      x = BatchNormalization()(x)\n",
    "\n",
    "    # Output Layer\n",
    "    rul_cycles = Dense(1, activation='linear', name='RUL_Cycles')(x)\n",
    "\n",
    "    # Define the model\n",
    "    model = Model(inputs=inputs, outputs=[rul_cycles])\n",
    "\n",
    "    # Define learning rate schedule\n",
    "    lr_schedule = ExponentialDecay(initial_learning_rate=.0007, decay_steps=steps_per_epoch, decay_rate=.78)\n",
    "    \n",
    "    # Compile the model with a lower learning rate\n",
    "    optimizer = AdamW(learning_rate=lr_schedule)\n",
    "    model.compile(optimizer=optimizer,\n",
    "                  loss={'RUL_Cycles': custom_loss},\n",
    "                  metrics={'RUL_Cycles': 'mae'})\n",
    "\n",
    "    return model\n",
    "\n",
    "rul_model = create_rul_model(inputs)"
   ]
  },
  {
   "cell_type": "code",
   "execution_count": 12,
   "metadata": {},
   "outputs": [
    {
     "data": {
      "text/html": [
       "<pre style=\"white-space:pre;overflow-x:auto;line-height:normal;font-family:Menlo,'DejaVu Sans Mono',consolas,'Courier New',monospace\"><span style=\"font-weight: bold\">Model: \"functional\"</span>\n",
       "</pre>\n"
      ],
      "text/plain": [
       "\u001b[1mModel: \"functional\"\u001b[0m\n"
      ]
     },
     "metadata": {},
     "output_type": "display_data"
    },
    {
     "data": {
      "text/html": [
       "<pre style=\"white-space:pre;overflow-x:auto;line-height:normal;font-family:Menlo,'DejaVu Sans Mono',consolas,'Courier New',monospace\">┏━━━━━━━━━━━━━━━━━━━━━━━━━━━━━━━━━┳━━━━━━━━━━━━━━━━━━━━━━━━┳━━━━━━━━━━━━━━━┓\n",
       "┃<span style=\"font-weight: bold\"> Layer (type)                    </span>┃<span style=\"font-weight: bold\"> Output Shape           </span>┃<span style=\"font-weight: bold\">       Param # </span>┃\n",
       "┡━━━━━━━━━━━━━━━━━━━━━━━━━━━━━━━━━╇━━━━━━━━━━━━━━━━━━━━━━━━╇━━━━━━━━━━━━━━━┩\n",
       "│ Input_Layer (<span style=\"color: #0087ff; text-decoration-color: #0087ff\">InputLayer</span>)        │ (<span style=\"color: #00d7ff; text-decoration-color: #00d7ff\">None</span>, <span style=\"color: #00af00; text-decoration-color: #00af00\">30</span>, <span style=\"color: #00af00; text-decoration-color: #00af00\">18</span>)         │             <span style=\"color: #00af00; text-decoration-color: #00af00\">0</span> │\n",
       "├─────────────────────────────────┼────────────────────────┼───────────────┤\n",
       "│ Conv1D_Layer1 (<span style=\"color: #0087ff; text-decoration-color: #0087ff\">Conv1D</span>)          │ (<span style=\"color: #00d7ff; text-decoration-color: #00d7ff\">None</span>, <span style=\"color: #00af00; text-decoration-color: #00af00\">30</span>, <span style=\"color: #00af00; text-decoration-color: #00af00\">512</span>)        │        <span style=\"color: #00af00; text-decoration-color: #00af00\">27,648</span> │\n",
       "├─────────────────────────────────┼────────────────────────┼───────────────┤\n",
       "│ batch_normalization             │ (<span style=\"color: #00d7ff; text-decoration-color: #00d7ff\">None</span>, <span style=\"color: #00af00; text-decoration-color: #00af00\">30</span>, <span style=\"color: #00af00; text-decoration-color: #00af00\">512</span>)        │         <span style=\"color: #00af00; text-decoration-color: #00af00\">2,048</span> │\n",
       "│ (<span style=\"color: #0087ff; text-decoration-color: #0087ff\">BatchNormalization</span>)            │                        │               │\n",
       "├─────────────────────────────────┼────────────────────────┼───────────────┤\n",
       "│ global_average_pooling1d        │ (<span style=\"color: #00d7ff; text-decoration-color: #00d7ff\">None</span>, <span style=\"color: #00af00; text-decoration-color: #00af00\">512</span>)            │             <span style=\"color: #00af00; text-decoration-color: #00af00\">0</span> │\n",
       "│ (<span style=\"color: #0087ff; text-decoration-color: #0087ff\">GlobalAveragePooling1D</span>)        │                        │               │\n",
       "├─────────────────────────────────┼────────────────────────┼───────────────┤\n",
       "│ dense (<span style=\"color: #0087ff; text-decoration-color: #0087ff\">Dense</span>)                   │ (<span style=\"color: #00d7ff; text-decoration-color: #00d7ff\">None</span>, <span style=\"color: #00af00; text-decoration-color: #00af00\">2048</span>)           │     <span style=\"color: #00af00; text-decoration-color: #00af00\">1,050,624</span> │\n",
       "├─────────────────────────────────┼────────────────────────┼───────────────┤\n",
       "│ batch_normalization_1           │ (<span style=\"color: #00d7ff; text-decoration-color: #00d7ff\">None</span>, <span style=\"color: #00af00; text-decoration-color: #00af00\">2048</span>)           │         <span style=\"color: #00af00; text-decoration-color: #00af00\">8,192</span> │\n",
       "│ (<span style=\"color: #0087ff; text-decoration-color: #0087ff\">BatchNormalization</span>)            │                        │               │\n",
       "├─────────────────────────────────┼────────────────────────┼───────────────┤\n",
       "│ dense_1 (<span style=\"color: #0087ff; text-decoration-color: #0087ff\">Dense</span>)                 │ (<span style=\"color: #00d7ff; text-decoration-color: #00d7ff\">None</span>, <span style=\"color: #00af00; text-decoration-color: #00af00\">128</span>)            │       <span style=\"color: #00af00; text-decoration-color: #00af00\">262,272</span> │\n",
       "├─────────────────────────────────┼────────────────────────┼───────────────┤\n",
       "│ batch_normalization_2           │ (<span style=\"color: #00d7ff; text-decoration-color: #00d7ff\">None</span>, <span style=\"color: #00af00; text-decoration-color: #00af00\">128</span>)            │           <span style=\"color: #00af00; text-decoration-color: #00af00\">512</span> │\n",
       "│ (<span style=\"color: #0087ff; text-decoration-color: #0087ff\">BatchNormalization</span>)            │                        │               │\n",
       "├─────────────────────────────────┼────────────────────────┼───────────────┤\n",
       "│ dense_2 (<span style=\"color: #0087ff; text-decoration-color: #0087ff\">Dense</span>)                 │ (<span style=\"color: #00d7ff; text-decoration-color: #00d7ff\">None</span>, <span style=\"color: #00af00; text-decoration-color: #00af00\">128</span>)            │        <span style=\"color: #00af00; text-decoration-color: #00af00\">16,512</span> │\n",
       "├─────────────────────────────────┼────────────────────────┼───────────────┤\n",
       "│ batch_normalization_3           │ (<span style=\"color: #00d7ff; text-decoration-color: #00d7ff\">None</span>, <span style=\"color: #00af00; text-decoration-color: #00af00\">128</span>)            │           <span style=\"color: #00af00; text-decoration-color: #00af00\">512</span> │\n",
       "│ (<span style=\"color: #0087ff; text-decoration-color: #0087ff\">BatchNormalization</span>)            │                        │               │\n",
       "├─────────────────────────────────┼────────────────────────┼───────────────┤\n",
       "│ dense_3 (<span style=\"color: #0087ff; text-decoration-color: #0087ff\">Dense</span>)                 │ (<span style=\"color: #00d7ff; text-decoration-color: #00d7ff\">None</span>, <span style=\"color: #00af00; text-decoration-color: #00af00\">128</span>)            │        <span style=\"color: #00af00; text-decoration-color: #00af00\">16,512</span> │\n",
       "├─────────────────────────────────┼────────────────────────┼───────────────┤\n",
       "│ batch_normalization_4           │ (<span style=\"color: #00d7ff; text-decoration-color: #00d7ff\">None</span>, <span style=\"color: #00af00; text-decoration-color: #00af00\">128</span>)            │           <span style=\"color: #00af00; text-decoration-color: #00af00\">512</span> │\n",
       "│ (<span style=\"color: #0087ff; text-decoration-color: #0087ff\">BatchNormalization</span>)            │                        │               │\n",
       "├─────────────────────────────────┼────────────────────────┼───────────────┤\n",
       "│ dense_4 (<span style=\"color: #0087ff; text-decoration-color: #0087ff\">Dense</span>)                 │ (<span style=\"color: #00d7ff; text-decoration-color: #00d7ff\">None</span>, <span style=\"color: #00af00; text-decoration-color: #00af00\">128</span>)            │        <span style=\"color: #00af00; text-decoration-color: #00af00\">16,512</span> │\n",
       "├─────────────────────────────────┼────────────────────────┼───────────────┤\n",
       "│ batch_normalization_5           │ (<span style=\"color: #00d7ff; text-decoration-color: #00d7ff\">None</span>, <span style=\"color: #00af00; text-decoration-color: #00af00\">128</span>)            │           <span style=\"color: #00af00; text-decoration-color: #00af00\">512</span> │\n",
       "│ (<span style=\"color: #0087ff; text-decoration-color: #0087ff\">BatchNormalization</span>)            │                        │               │\n",
       "├─────────────────────────────────┼────────────────────────┼───────────────┤\n",
       "│ dense_5 (<span style=\"color: #0087ff; text-decoration-color: #0087ff\">Dense</span>)                 │ (<span style=\"color: #00d7ff; text-decoration-color: #00d7ff\">None</span>, <span style=\"color: #00af00; text-decoration-color: #00af00\">128</span>)            │        <span style=\"color: #00af00; text-decoration-color: #00af00\">16,512</span> │\n",
       "├─────────────────────────────────┼────────────────────────┼───────────────┤\n",
       "│ batch_normalization_6           │ (<span style=\"color: #00d7ff; text-decoration-color: #00d7ff\">None</span>, <span style=\"color: #00af00; text-decoration-color: #00af00\">128</span>)            │           <span style=\"color: #00af00; text-decoration-color: #00af00\">512</span> │\n",
       "│ (<span style=\"color: #0087ff; text-decoration-color: #0087ff\">BatchNormalization</span>)            │                        │               │\n",
       "├─────────────────────────────────┼────────────────────────┼───────────────┤\n",
       "│ dense_6 (<span style=\"color: #0087ff; text-decoration-color: #0087ff\">Dense</span>)                 │ (<span style=\"color: #00d7ff; text-decoration-color: #00d7ff\">None</span>, <span style=\"color: #00af00; text-decoration-color: #00af00\">128</span>)            │        <span style=\"color: #00af00; text-decoration-color: #00af00\">16,512</span> │\n",
       "├─────────────────────────────────┼────────────────────────┼───────────────┤\n",
       "│ batch_normalization_7           │ (<span style=\"color: #00d7ff; text-decoration-color: #00d7ff\">None</span>, <span style=\"color: #00af00; text-decoration-color: #00af00\">128</span>)            │           <span style=\"color: #00af00; text-decoration-color: #00af00\">512</span> │\n",
       "│ (<span style=\"color: #0087ff; text-decoration-color: #0087ff\">BatchNormalization</span>)            │                        │               │\n",
       "├─────────────────────────────────┼────────────────────────┼───────────────┤\n",
       "│ dense_7 (<span style=\"color: #0087ff; text-decoration-color: #0087ff\">Dense</span>)                 │ (<span style=\"color: #00d7ff; text-decoration-color: #00d7ff\">None</span>, <span style=\"color: #00af00; text-decoration-color: #00af00\">128</span>)            │        <span style=\"color: #00af00; text-decoration-color: #00af00\">16,512</span> │\n",
       "├─────────────────────────────────┼────────────────────────┼───────────────┤\n",
       "│ batch_normalization_8           │ (<span style=\"color: #00d7ff; text-decoration-color: #00d7ff\">None</span>, <span style=\"color: #00af00; text-decoration-color: #00af00\">128</span>)            │           <span style=\"color: #00af00; text-decoration-color: #00af00\">512</span> │\n",
       "│ (<span style=\"color: #0087ff; text-decoration-color: #0087ff\">BatchNormalization</span>)            │                        │               │\n",
       "├─────────────────────────────────┼────────────────────────┼───────────────┤\n",
       "│ Health_State (<span style=\"color: #0087ff; text-decoration-color: #0087ff\">Dense</span>)            │ (<span style=\"color: #00d7ff; text-decoration-color: #00d7ff\">None</span>, <span style=\"color: #00af00; text-decoration-color: #00af00\">1</span>)              │           <span style=\"color: #00af00; text-decoration-color: #00af00\">129</span> │\n",
       "└─────────────────────────────────┴────────────────────────┴───────────────┘\n",
       "</pre>\n"
      ],
      "text/plain": [
       "┏━━━━━━━━━━━━━━━━━━━━━━━━━━━━━━━━━┳━━━━━━━━━━━━━━━━━━━━━━━━┳━━━━━━━━━━━━━━━┓\n",
       "┃\u001b[1m \u001b[0m\u001b[1mLayer (type)                   \u001b[0m\u001b[1m \u001b[0m┃\u001b[1m \u001b[0m\u001b[1mOutput Shape          \u001b[0m\u001b[1m \u001b[0m┃\u001b[1m \u001b[0m\u001b[1m      Param #\u001b[0m\u001b[1m \u001b[0m┃\n",
       "┡━━━━━━━━━━━━━━━━━━━━━━━━━━━━━━━━━╇━━━━━━━━━━━━━━━━━━━━━━━━╇━━━━━━━━━━━━━━━┩\n",
       "│ Input_Layer (\u001b[38;5;33mInputLayer\u001b[0m)        │ (\u001b[38;5;45mNone\u001b[0m, \u001b[38;5;34m30\u001b[0m, \u001b[38;5;34m18\u001b[0m)         │             \u001b[38;5;34m0\u001b[0m │\n",
       "├─────────────────────────────────┼────────────────────────┼───────────────┤\n",
       "│ Conv1D_Layer1 (\u001b[38;5;33mConv1D\u001b[0m)          │ (\u001b[38;5;45mNone\u001b[0m, \u001b[38;5;34m30\u001b[0m, \u001b[38;5;34m512\u001b[0m)        │        \u001b[38;5;34m27,648\u001b[0m │\n",
       "├─────────────────────────────────┼────────────────────────┼───────────────┤\n",
       "│ batch_normalization             │ (\u001b[38;5;45mNone\u001b[0m, \u001b[38;5;34m30\u001b[0m, \u001b[38;5;34m512\u001b[0m)        │         \u001b[38;5;34m2,048\u001b[0m │\n",
       "│ (\u001b[38;5;33mBatchNormalization\u001b[0m)            │                        │               │\n",
       "├─────────────────────────────────┼────────────────────────┼───────────────┤\n",
       "│ global_average_pooling1d        │ (\u001b[38;5;45mNone\u001b[0m, \u001b[38;5;34m512\u001b[0m)            │             \u001b[38;5;34m0\u001b[0m │\n",
       "│ (\u001b[38;5;33mGlobalAveragePooling1D\u001b[0m)        │                        │               │\n",
       "├─────────────────────────────────┼────────────────────────┼───────────────┤\n",
       "│ dense (\u001b[38;5;33mDense\u001b[0m)                   │ (\u001b[38;5;45mNone\u001b[0m, \u001b[38;5;34m2048\u001b[0m)           │     \u001b[38;5;34m1,050,624\u001b[0m │\n",
       "├─────────────────────────────────┼────────────────────────┼───────────────┤\n",
       "│ batch_normalization_1           │ (\u001b[38;5;45mNone\u001b[0m, \u001b[38;5;34m2048\u001b[0m)           │         \u001b[38;5;34m8,192\u001b[0m │\n",
       "│ (\u001b[38;5;33mBatchNormalization\u001b[0m)            │                        │               │\n",
       "├─────────────────────────────────┼────────────────────────┼───────────────┤\n",
       "│ dense_1 (\u001b[38;5;33mDense\u001b[0m)                 │ (\u001b[38;5;45mNone\u001b[0m, \u001b[38;5;34m128\u001b[0m)            │       \u001b[38;5;34m262,272\u001b[0m │\n",
       "├─────────────────────────────────┼────────────────────────┼───────────────┤\n",
       "│ batch_normalization_2           │ (\u001b[38;5;45mNone\u001b[0m, \u001b[38;5;34m128\u001b[0m)            │           \u001b[38;5;34m512\u001b[0m │\n",
       "│ (\u001b[38;5;33mBatchNormalization\u001b[0m)            │                        │               │\n",
       "├─────────────────────────────────┼────────────────────────┼───────────────┤\n",
       "│ dense_2 (\u001b[38;5;33mDense\u001b[0m)                 │ (\u001b[38;5;45mNone\u001b[0m, \u001b[38;5;34m128\u001b[0m)            │        \u001b[38;5;34m16,512\u001b[0m │\n",
       "├─────────────────────────────────┼────────────────────────┼───────────────┤\n",
       "│ batch_normalization_3           │ (\u001b[38;5;45mNone\u001b[0m, \u001b[38;5;34m128\u001b[0m)            │           \u001b[38;5;34m512\u001b[0m │\n",
       "│ (\u001b[38;5;33mBatchNormalization\u001b[0m)            │                        │               │\n",
       "├─────────────────────────────────┼────────────────────────┼───────────────┤\n",
       "│ dense_3 (\u001b[38;5;33mDense\u001b[0m)                 │ (\u001b[38;5;45mNone\u001b[0m, \u001b[38;5;34m128\u001b[0m)            │        \u001b[38;5;34m16,512\u001b[0m │\n",
       "├─────────────────────────────────┼────────────────────────┼───────────────┤\n",
       "│ batch_normalization_4           │ (\u001b[38;5;45mNone\u001b[0m, \u001b[38;5;34m128\u001b[0m)            │           \u001b[38;5;34m512\u001b[0m │\n",
       "│ (\u001b[38;5;33mBatchNormalization\u001b[0m)            │                        │               │\n",
       "├─────────────────────────────────┼────────────────────────┼───────────────┤\n",
       "│ dense_4 (\u001b[38;5;33mDense\u001b[0m)                 │ (\u001b[38;5;45mNone\u001b[0m, \u001b[38;5;34m128\u001b[0m)            │        \u001b[38;5;34m16,512\u001b[0m │\n",
       "├─────────────────────────────────┼────────────────────────┼───────────────┤\n",
       "│ batch_normalization_5           │ (\u001b[38;5;45mNone\u001b[0m, \u001b[38;5;34m128\u001b[0m)            │           \u001b[38;5;34m512\u001b[0m │\n",
       "│ (\u001b[38;5;33mBatchNormalization\u001b[0m)            │                        │               │\n",
       "├─────────────────────────────────┼────────────────────────┼───────────────┤\n",
       "│ dense_5 (\u001b[38;5;33mDense\u001b[0m)                 │ (\u001b[38;5;45mNone\u001b[0m, \u001b[38;5;34m128\u001b[0m)            │        \u001b[38;5;34m16,512\u001b[0m │\n",
       "├─────────────────────────────────┼────────────────────────┼───────────────┤\n",
       "│ batch_normalization_6           │ (\u001b[38;5;45mNone\u001b[0m, \u001b[38;5;34m128\u001b[0m)            │           \u001b[38;5;34m512\u001b[0m │\n",
       "│ (\u001b[38;5;33mBatchNormalization\u001b[0m)            │                        │               │\n",
       "├─────────────────────────────────┼────────────────────────┼───────────────┤\n",
       "│ dense_6 (\u001b[38;5;33mDense\u001b[0m)                 │ (\u001b[38;5;45mNone\u001b[0m, \u001b[38;5;34m128\u001b[0m)            │        \u001b[38;5;34m16,512\u001b[0m │\n",
       "├─────────────────────────────────┼────────────────────────┼───────────────┤\n",
       "│ batch_normalization_7           │ (\u001b[38;5;45mNone\u001b[0m, \u001b[38;5;34m128\u001b[0m)            │           \u001b[38;5;34m512\u001b[0m │\n",
       "│ (\u001b[38;5;33mBatchNormalization\u001b[0m)            │                        │               │\n",
       "├─────────────────────────────────┼────────────────────────┼───────────────┤\n",
       "│ dense_7 (\u001b[38;5;33mDense\u001b[0m)                 │ (\u001b[38;5;45mNone\u001b[0m, \u001b[38;5;34m128\u001b[0m)            │        \u001b[38;5;34m16,512\u001b[0m │\n",
       "├─────────────────────────────────┼────────────────────────┼───────────────┤\n",
       "│ batch_normalization_8           │ (\u001b[38;5;45mNone\u001b[0m, \u001b[38;5;34m128\u001b[0m)            │           \u001b[38;5;34m512\u001b[0m │\n",
       "│ (\u001b[38;5;33mBatchNormalization\u001b[0m)            │                        │               │\n",
       "├─────────────────────────────────┼────────────────────────┼───────────────┤\n",
       "│ Health_State (\u001b[38;5;33mDense\u001b[0m)            │ (\u001b[38;5;45mNone\u001b[0m, \u001b[38;5;34m1\u001b[0m)              │           \u001b[38;5;34m129\u001b[0m │\n",
       "└─────────────────────────────────┴────────────────────────┴───────────────┘\n"
      ]
     },
     "metadata": {},
     "output_type": "display_data"
    },
    {
     "data": {
      "text/html": [
       "<pre style=\"white-space:pre;overflow-x:auto;line-height:normal;font-family:Menlo,'DejaVu Sans Mono',consolas,'Courier New',monospace\"><span style=\"font-weight: bold\"> Total params: </span><span style=\"color: #00af00; text-decoration-color: #00af00\">1,453,569</span> (5.54 MB)\n",
       "</pre>\n"
      ],
      "text/plain": [
       "\u001b[1m Total params: \u001b[0m\u001b[38;5;34m1,453,569\u001b[0m (5.54 MB)\n"
      ]
     },
     "metadata": {},
     "output_type": "display_data"
    },
    {
     "data": {
      "text/html": [
       "<pre style=\"white-space:pre;overflow-x:auto;line-height:normal;font-family:Menlo,'DejaVu Sans Mono',consolas,'Courier New',monospace\"><span style=\"font-weight: bold\"> Trainable params: </span><span style=\"color: #00af00; text-decoration-color: #00af00\">1,446,657</span> (5.52 MB)\n",
       "</pre>\n"
      ],
      "text/plain": [
       "\u001b[1m Trainable params: \u001b[0m\u001b[38;5;34m1,446,657\u001b[0m (5.52 MB)\n"
      ]
     },
     "metadata": {},
     "output_type": "display_data"
    },
    {
     "data": {
      "text/html": [
       "<pre style=\"white-space:pre;overflow-x:auto;line-height:normal;font-family:Menlo,'DejaVu Sans Mono',consolas,'Courier New',monospace\"><span style=\"font-weight: bold\"> Non-trainable params: </span><span style=\"color: #00af00; text-decoration-color: #00af00\">6,912</span> (27.00 KB)\n",
       "</pre>\n"
      ],
      "text/plain": [
       "\u001b[1m Non-trainable params: \u001b[0m\u001b[38;5;34m6,912\u001b[0m (27.00 KB)\n"
      ]
     },
     "metadata": {},
     "output_type": "display_data"
    }
   ],
   "source": [
    "hs_model.summary()"
   ]
  },
  {
   "cell_type": "code",
   "execution_count": null,
   "metadata": {},
   "outputs": [],
   "source": [
    "# Define early stopping\n",
    "early_hs_stopping = EarlyStopping(monitor='val_accuracy', patience=30, mode='max', restore_best_weights=True)\n",
    "\n",
    "# Train HS model\n",
    "hs_history = hs_model.fit(train_hs_generator,\n",
    "                    validation_data=validation_hs_generator,\n",
    "                    epochs=EPOCHS,\n",
    "                    steps_per_epoch=steps_per_epoch,\n",
    "                    validation_steps=validation_steps,\n",
    "                    callbacks=[early_hs_stopping])"
   ]
  },
  {
   "cell_type": "code",
   "execution_count": null,
   "metadata": {},
   "outputs": [],
   "source": [
    "rul_model.summary()"
   ]
  },
  {
   "cell_type": "code",
   "execution_count": null,
   "metadata": {},
   "outputs": [],
   "source": [
    "# Define early stopping\n",
    "early_rul_stopping = EarlyStopping(monitor='val_mae', patience=30, mode='min', restore_best_weights=True)\n",
    "\n",
    "# Train RUL model\n",
    "rul_history = rul_model.fit(train_rul_generator,\n",
    "                    validation_data=validation_rul_generator,\n",
    "                    epochs=EPOCHS,\n",
    "                    steps_per_epoch=steps_per_epoch,\n",
    "                    validation_steps=validation_steps,\n",
    "                    callbacks=[early_rul_stopping])"
   ]
  },
  {
   "cell_type": "code",
   "execution_count": null,
   "metadata": {},
   "outputs": [],
   "source": [
    "# Print best\n",
    "print(\"RUL MAE: \", min(rul_history.history['val_mae']))\n",
    "print(\"HS Acc: \", max(hs_history.history['val_accuracy']))"
   ]
  },
  {
   "cell_type": "code",
   "execution_count": 15,
   "metadata": {},
   "outputs": [],
   "source": [
    "# Save models\n",
    "hs_model.save('hs_nn_model.keras')\n",
    "rul_model.save('rul_nn_model.keras')"
   ]
  },
  {
   "cell_type": "code",
   "execution_count": null,
   "metadata": {},
   "outputs": [],
   "source": [
    "# Create feature extractors\n",
    "hs_feature_extractor = Model(inputs=hs_model.input, outputs=hs_model.layers[3].output)\n",
    "rul_feature_extractor = Model(inputs=rul_model.input, outputs=rul_model.layers[3].output)"
   ]
  },
  {
   "cell_type": "code",
   "execution_count": null,
   "metadata": {},
   "outputs": [],
   "source": [
    "# Create feature extracted datasets\n",
    "hs_x_train_conv = hs_feature_extractor.predict(X_train)\n",
    "hs_x_validation_conv = hs_feature_extractor.predict(X_validation)\n",
    "hs_x_test_13_conv = hs_feature_extractor.predict(x_test_13)\n",
    "hs_x_test_14_conv = hs_feature_extractor.predict(x_test_14)\n",
    "hs_x_test_15_conv = hs_feature_extractor.predict(x_test_15)\n",
    "\n",
    "rul_x_train_conv = rul_feature_extractor.predict(X_train)\n",
    "rul_x_validation_conv = rul_feature_extractor.predict(X_validation)\n",
    "rul_x_test_13_conv = rul_feature_extractor.predict(x_test_13)\n",
    "rul_x_test_14_conv = rul_feature_extractor.predict(x_test_14)\n",
    "rul_x_test_15_conv = rul_feature_extractor.predict(x_test_15)"
   ]
  },
  {
   "cell_type": "code",
   "execution_count": null,
   "metadata": {},
   "outputs": [],
   "source": [
    "# Convert to pd dataframes and save as h5\n",
    "hs_x_train_conv = pd.DataFrame(hs_x_train_conv)\n",
    "hs_x_validation_conv = pd.DataFrame(hs_x_validation_conv)\n",
    "hs_x_test_13_conv = pd.DataFrame(hs_x_test_13_conv)\n",
    "hs_x_test_14_conv = pd.DataFrame(hs_x_test_14_conv)\n",
    "hs_x_test_15_conv = pd.DataFrame(hs_x_test_15_conv)\n",
    "\n",
    "rul_x_train_conv = pd.DataFrame(rul_x_train_conv)\n",
    "rul_x_validation_conv = pd.DataFrame(rul_x_validation_conv)\n",
    "rul_x_test_13_conv = pd.DataFrame(rul_x_test_13_conv)\n",
    "rul_x_test_14_conv = pd.DataFrame(rul_x_test_14_conv)\n",
    "rul_x_test_15_conv = pd.DataFrame(rul_x_test_15_conv)\n"
   ]
  },
  {
   "cell_type": "code",
   "execution_count": null,
   "metadata": {},
   "outputs": [],
   "source": [
    "# Save feature extracted datasets\n"
   ]
  },
  {
   "cell_type": "code",
   "execution_count": null,
   "metadata": {},
   "outputs": [],
   "source": [
    "# Save feature extractors\n",
    "hs_feature_extractor.save('hs_feature_extractor.keras')\n",
    "rul_feature_extractor.save('rul_feature_extractor.keras')"
   ]
  }
 ],
 "metadata": {
  "kernelspec": {
   "display_name": "Python 3",
   "language": "python",
   "name": "python3"
  },
  "language_info": {
   "codemirror_mode": {
    "name": "ipython",
    "version": 3
   },
   "file_extension": ".py",
   "mimetype": "text/x-python",
   "name": "python",
   "nbconvert_exporter": "python",
   "pygments_lexer": "ipython3",
   "version": "3.10.6"
  }
 },
 "nbformat": 4,
 "nbformat_minor": 2
}
