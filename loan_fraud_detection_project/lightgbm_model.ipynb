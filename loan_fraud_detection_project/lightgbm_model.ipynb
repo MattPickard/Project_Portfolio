{
 "cells": [
  {
   "cell_type": "code",
   "execution_count": 6,
   "metadata": {},
   "outputs": [],
   "source": [
    "import pandas as pd\n",
    "import numpy as np\n",
    "import pickle\n",
    "import lightgbm as lgb\n",
    "from sklearn.metrics import roc_auc_score"
   ]
  },
  {
   "cell_type": "code",
   "execution_count": 7,
   "metadata": {},
   "outputs": [],
   "source": [
    "# Load data\n",
    "train = pd.read_pickle('data/sampled_train.pkl')\n",
    "validation = pd.read_pickle('data/smote_val.pkl')"
   ]
  },
  {
   "cell_type": "code",
   "execution_count": 8,
   "metadata": {},
   "outputs": [],
   "source": [
    "# Split X and y\n",
    "X_train = train.drop('fraud_bool', axis=1)\n",
    "y_train = train['fraud_bool']\n",
    "X_validation = validation.drop('fraud_bool', axis=1)\n",
    "y_validation = validation['fraud_bool']"
   ]
  },
  {
   "cell_type": "code",
   "execution_count": 9,
   "metadata": {},
   "outputs": [],
   "source": [
    "# Create lgbm datasets\n",
    "train_data = lgb.Dataset(X_train, label=y_train)\n",
    "validation_data = lgb.Dataset(X_validation, label=y_validation)"
   ]
  },
  {
   "cell_type": "code",
   "execution_count": null,
   "metadata": {},
   "outputs": [],
   "source": [
    "# Optuna hyperparameter tuning\n",
    "\"\"\"import optuna\n",
    "\n",
    "def objective(trial):\n",
    "    param = {\n",
    "        'objective': 'binary',\n",
    "        'metric': 'binary_error',\n",
    "        'boosting_type': 'gbdt',\n",
    "        'num_leaves': trial.suggest_int('num_leaves', 2, 256),\n",
    "        'max_depth': trial.suggest_int('max_depth', 2, 32),\n",
    "        'learning_rate': trial.suggest_float('learning_rate', 0.005, 0.5, log=True),\n",
    "        'feature_fraction': trial.suggest_float('feature_fraction', 0.1, 1.0, log=True),\n",
    "    }\n",
    "    \n",
    "    gbm = lgb.train(param, train_data, valid_sets=[validation_data])\n",
    "    preds = gbm.predict(X_validation)\n",
    "    pred_labels = np.rint(preds)\n",
    "    accuracy = roc_auc_score(y_validation, pred_labels)\n",
    "    return accuracy\n",
    "\n",
    "study = optuna.create_study(direction='maximize')\n",
    "study.optimize(objective, n_trials=200)\n",
    "\n",
    "best_params = study.best_params\n",
    "print(best_params)\"\"\""
   ]
  },
  {
   "cell_type": "code",
   "execution_count": null,
   "metadata": {},
   "outputs": [],
   "source": [
    "# Train model\n",
    "params = {\"objective\": \"binary\", \"metric\": \"AUC\", 'num_leaves': 230, 'max_depth': 25, 'learning_rate': 0.07101316862507606, 'feature_fraction': 0.25424329182152305}\n",
    "model = lgb.LGBMClassifier(**params)\n",
    "model.fit(X_train, y_train, eval_set=(X_validation, y_validation))"
   ]
  },
  {
   "cell_type": "code",
   "execution_count": null,
   "metadata": {},
   "outputs": [],
   "source": [
    "# Save model\n",
    "pickle.dump(model, open('lgbm_model.pkl', 'wb'))"
   ]
  },
  {
   "cell_type": "code",
   "execution_count": 14,
   "metadata": {},
   "outputs": [
    {
     "name": "stdout",
     "output_type": "stream",
     "text": [
      "                             Feature  Importance\n",
      "8                        velocity_4w        1937\n",
      "22                days_since_request        1919\n",
      "23                      zip_count_4w        1638\n",
      "7                       velocity_24h        1542\n",
      "6                        velocity_6h        1531\n",
      "1              name_email_similarity        1491\n",
      "5             intended_balcon_amount        1343\n",
      "18         session_length_in_minutes        1332\n",
      "11                 credit_risk_score        1300\n",
      "9               bank_branch_count_8w        1174\n",
      "10  date_of_birth_distinct_emails_4w        1021\n",
      "3       current_address_months_count         912\n",
      "15                 bank_months_count         901\n",
      "21            income_to_credit_limit         864\n",
      "0                             income         426\n",
      "4                       customer_age         394\n",
      "24             proposed_credit_limit         313\n",
      "48                   device_os_other         205\n",
      "46                   device_os_linux         198\n",
      "20         device_distinct_emails_8w         178\n",
      "2          prev_address_months_count         163\n",
      "27                   payment_type_AC         152\n",
      "30              employment_status_CA         151\n",
      "39                 housing_status_BC         140\n",
      "26                   payment_type_AB         131\n",
      "25                   payment_type_AA         118\n",
      "19                keep_alive_session         111\n",
      "12                     email_is_free         108\n",
      "28                   payment_type_AD         105\n",
      "41                 housing_status_BE         102\n",
      "38                 housing_status_BB          97\n",
      "17                   foreign_request          95\n",
      "47               device_os_macintosh          95\n",
      "49                 device_os_windows          90\n",
      "32              employment_status_CC          89\n",
      "14                phone_mobile_valid          80\n",
      "13                  phone_home_valid          78\n",
      "31              employment_status_CB          63\n",
      "16                   has_other_cards          57\n",
      "37                 housing_status_BA          57\n",
      "35              employment_status_CF          55\n",
      "40                 housing_status_BD          44\n",
      "33              employment_status_CD          35\n",
      "34              employment_status_CE          30\n",
      "44                   source_INTERNET          16\n",
      "50                     device_os_x11          12\n",
      "45                    source_TELEAPP           7\n",
      "36              employment_status_CG           0\n",
      "42                 housing_status_BF           0\n",
      "43                 housing_status_BG           0\n",
      "29                   payment_type_AE           0\n"
     ]
    }
   ],
   "source": [
    "# Get feature importances\n",
    "feature_importances = model.feature_importances_\n",
    "feature_names = X_train.columns\n",
    "importance_df = pd.DataFrame({'Feature': feature_names, 'Importance': feature_importances})\n",
    "importance_df = importance_df.sort_values(by='Importance', ascending=False)\n",
    "\n",
    "print(importance_df)"
   ]
  }
 ],
 "metadata": {
  "kernelspec": {
   "display_name": "Python 3",
   "language": "python",
   "name": "python3"
  },
  "language_info": {
   "codemirror_mode": {
    "name": "ipython",
    "version": 3
   },
   "file_extension": ".py",
   "mimetype": "text/x-python",
   "name": "python",
   "nbconvert_exporter": "python",
   "pygments_lexer": "ipython3",
   "version": "3.10.6"
  }
 },
 "nbformat": 4,
 "nbformat_minor": 2
}
