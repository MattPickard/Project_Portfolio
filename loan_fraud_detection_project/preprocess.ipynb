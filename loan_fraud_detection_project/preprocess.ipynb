{
 "cells": [
  {
   "cell_type": "code",
   "execution_count": 2,
   "metadata": {},
   "outputs": [],
   "source": [
    "import pandas as pd\n",
    "import numpy as np\n",
    "from sklearn.preprocessing import RobustScaler\n",
    "import pickle"
   ]
  },
  {
   "cell_type": "code",
   "execution_count": 3,
   "metadata": {},
   "outputs": [],
   "source": [
    "# Load dataset\n",
    "df = pd.read_csv('base.csv')"
   ]
  },
  {
   "cell_type": "code",
   "execution_count": 4,
   "metadata": {},
   "outputs": [],
   "source": [
    "# Drop device fraud count due to no positive examples in this dataset\n",
    "df = df.drop(columns=['device_fraud_count'])\n"
   ]
  },
  {
   "cell_type": "code",
   "execution_count": 18,
   "metadata": {},
   "outputs": [],
   "source": [
    "# Convert fraud_bool to boolean\n",
    "df['fraud_bool'] = df['fraud_bool'].astype(bool)"
   ]
  },
  {
   "cell_type": "code",
   "execution_count": 19,
   "metadata": {},
   "outputs": [],
   "source": [
    "# Split test and train, months 0-5 are train, 6-7 are test\n",
    "train = df[df['month'].isin([0,1,2,3,4,5])].reset_index(drop=True)\n",
    "test = df[df['month'].isin([6,7])].reset_index(drop=True)"
   ]
  },
  {
   "cell_type": "code",
   "execution_count": 20,
   "metadata": {},
   "outputs": [],
   "source": [
    "# Drop month column\n",
    "train = train.drop(columns=['month'])\n",
    "test = test.drop(columns=['month'])\n"
   ]
  },
  {
   "cell_type": "code",
   "execution_count": 21,
   "metadata": {},
   "outputs": [],
   "source": [
    "# Create new feature income / proposed_credit_limit\n",
    "train['income_to_credit_limit'] = train['income'] / train['proposed_credit_limit']\n",
    "test['income_to_credit_limit'] = test['income'] / test['proposed_credit_limit']\n"
   ]
  },
  {
   "cell_type": "code",
   "execution_count": 22,
   "metadata": {},
   "outputs": [],
   "source": [
    "# Log scaling 'days_since_request', 'zip_count_4w', and 'proposed_credit_limit' due to skewed distributions\n",
    "log_scale_columns = ['days_since_request', 'zip_count_4w', 'proposed_credit_limit']\n",
    "log_train_cols = pd.DataFrame()\n",
    "log_test_cols = pd.DataFrame()\n",
    "\n",
    "for col in log_scale_columns:\n",
    "    log_train_cols[col] = np.log(train[col])\n",
    "    log_test_cols[col] = np.log(test[col])\n",
    "\n",
    "# Temporarily remove log scaled columns while robust scaler is applied to the other numerical columns\n",
    "train = train.drop(columns=log_scale_columns)\n",
    "test = test.drop(columns=log_scale_columns)"
   ]
  },
  {
   "cell_type": "code",
   "execution_count": 23,
   "metadata": {},
   "outputs": [],
   "source": [
    "# Numerical columns\n",
    "numerical_columns = train.select_dtypes(include=['int64', 'float64']).columns\n",
    "\n",
    "# Apply robust scaler\n",
    "scaler = RobustScaler()\n",
    "train[numerical_columns] = scaler.fit_transform(train[numerical_columns])\n",
    "test[numerical_columns] = scaler.transform(test[numerical_columns])\n"
   ]
  },
  {
   "cell_type": "code",
   "execution_count": 24,
   "metadata": {},
   "outputs": [],
   "source": [
    "# Add log scaled columns back into train and test\n",
    "train = pd.concat([train, log_train_cols], axis=1)\n",
    "test = pd.concat([test, log_test_cols], axis=1)"
   ]
  },
  {
   "cell_type": "code",
   "execution_count": 25,
   "metadata": {},
   "outputs": [],
   "source": [
    "# List objects type columns\n",
    "object_columns_train = train.select_dtypes(include=['object']).columns\n",
    "object_columns_test = test.select_dtypes(include=['object']).columns\n",
    "\n",
    "# One-hot encode object columns\n",
    "train = pd.get_dummies(train, columns=object_columns_train)\n",
    "test = pd.get_dummies(test, columns=object_columns_test)"
   ]
  },
  {
   "cell_type": "code",
   "execution_count": 26,
   "metadata": {},
   "outputs": [
    {
     "name": "stdout",
     "output_type": "stream",
     "text": [
      "Memory usage of dataframe is 172.10 MB\n",
      "Memory usage after optimization is 58.38 MB\n",
      "Decreased by 66.1%\n",
      "Memory usage of dataframe is 44.38 MB\n",
      "Memory usage after optimization is 15.05 MB\n",
      "Decreased by 66.1%\n"
     ]
    }
   ],
   "source": [
    "# Memory reduction\n",
    "def reduce_mem_usage(df):\n",
    "    \"\"\" \n",
    "    Iterate through all the numerical columns of a dataframe and modify the data type\n",
    "    to reduce memory usage. \n",
    "    \"\"\"\n",
    "    start_mem = df.memory_usage().sum() / 1024**2\n",
    "    print(f\"Memory usage of dataframe is {start_mem:.2f} MB\")\n",
    "\n",
    "    for col in df.columns:\n",
    "        col_type = df[col].dtype\n",
    "        \n",
    "        if col_type != object and col_type != bool: \n",
    "            c_min = df[col].min()\n",
    "            c_max = df[col].max()\n",
    "            \n",
    "            if str(col_type)[:3] == 'int':\n",
    "                if c_min > np.iinfo(np.int8).min and c_max < np.iinfo(np.int8).max:\n",
    "                    df[col] = df[col].astype(np.int8)\n",
    "                elif c_min > np.iinfo(np.int16).min and c_max < np.iinfo(np.int16).max:\n",
    "                    df[col] = df[col].astype(np.int16)\n",
    "                elif c_min > np.iinfo(np.int32).min and c_max < np.iinfo(np.int32).max:\n",
    "                    df[col] = df[col].astype(np.int32)\n",
    "                elif c_min > np.iinfo(np.int64).min and c_max < np.iinfo(np.int64).max:\n",
    "                    df[col] = df[col].astype(np.int64)\n",
    "            else:\n",
    "                if c_min > np.finfo(np.float16).min and c_max < np.finfo(np.float16).max:\n",
    "                    df[col] = df[col].astype(np.float16)\n",
    "                elif c_min > np.finfo(np.float32).min and c_max < np.finfo(np.float32).max:\n",
    "                    df[col] = df[col].astype(np.float32)\n",
    "                else:\n",
    "                    df[col] = df[col].astype(np.float64)\n",
    "\n",
    "    end_mem = df.memory_usage().sum() / 1024**2\n",
    "    print(f\"Memory usage after optimization is {end_mem:.2f} MB\")\n",
    "    print(f\"Decreased by {(100 * (start_mem - end_mem) / start_mem):.1f}%\")\n",
    "\n",
    "    return df\n",
    "\n",
    "# Apply memory reduction\n",
    "train = reduce_mem_usage(train)\n",
    "test = reduce_mem_usage(test)\n"
   ]
  },
  {
   "cell_type": "code",
   "execution_count": null,
   "metadata": {},
   "outputs": [],
   "source": [
    "# Save train and test to pickle\n",
    "train.to_pickle('data/train.pkl')\n",
    "test.to_pickle('data/test.pkl')"
   ]
  }
 ],
 "metadata": {
  "kernelspec": {
   "display_name": "Python 3",
   "language": "python",
   "name": "python3"
  },
  "language_info": {
   "codemirror_mode": {
    "name": "ipython",
    "version": 3
   },
   "file_extension": ".py",
   "mimetype": "text/x-python",
   "name": "python",
   "nbconvert_exporter": "python",
   "pygments_lexer": "ipython3",
   "version": "3.10.6"
  }
 },
 "nbformat": 4,
 "nbformat_minor": 2
}
