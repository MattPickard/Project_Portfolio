{
 "cells": [
  {
   "cell_type": "code",
   "execution_count": 1,
   "metadata": {},
   "outputs": [],
   "source": [
    "import pandas as pd\n",
    "import numpy as np\n",
    "import pickle\n",
    "from imblearn.over_sampling import SMOTENC"
   ]
  },
  {
   "cell_type": "code",
   "execution_count": 2,
   "metadata": {},
   "outputs": [],
   "source": [
    "# Load data\n",
    "df = pd.read_pickle('data/train.pkl')"
   ]
  },
  {
   "cell_type": "code",
   "execution_count": 3,
   "metadata": {},
   "outputs": [],
   "source": [
    "df_minority = df[df['fraud_bool'] == 1]\n",
    "df_majority = df[df['fraud_bool'] == 0]"
   ]
  },
  {
   "cell_type": "code",
   "execution_count": 48,
   "metadata": {},
   "outputs": [],
   "source": [
    "# Remove 30% of the majority class samples for synthetic validation set\n",
    "majority_class_sampled = df_majority.sample(frac=0.3)\n",
    "df = pd.concat([df_minority, majority_class_sampled])"
   ]
  },
  {
   "cell_type": "code",
   "execution_count": null,
   "metadata": {},
   "outputs": [],
   "source": [
    "# Random downsample of train set\n",
    "print(len(df_minority))\n",
    "print(len(df_majority))\n",
    "\n",
    "majority_samples = df_majority.sample(len(df_minority))\n",
    "train = pd.concat([df_minority, majority_samples])\n",
    "\n",
    "# Fraud_bool classes\n",
    "print(train['fraud_bool'].value_counts())"
   ]
  },
  {
   "cell_type": "code",
   "execution_count": 8,
   "metadata": {},
   "outputs": [],
   "source": [
    "# Split into X and y for upsampling\n",
    "X_Val = df.drop('fraud_bool', axis=1)\n",
    "y_Val = df['fraud_bool']\n",
    "\n",
    "X_train = train.drop('fraud_bool', axis=1)\n",
    "y_train = train['fraud_bool']\n"
   ]
  },
  {
   "cell_type": "code",
   "execution_count": 9,
   "metadata": {},
   "outputs": [],
   "source": [
    "# Find bool columns\n",
    "bool_cols = X_Val.select_dtypes(include=['bool']).columns\n",
    "bool_cols_ind = [X_Val.columns.get_loc(col) for col in bool_cols]\n"
   ]
  },
  {
   "cell_type": "code",
   "execution_count": null,
   "metadata": {},
   "outputs": [],
   "source": [
    "# Create synthetic validation set\n",
    "# Synthetic minority over-sampling technique for nominal and continuous features (SMOTENC)\n",
    "smote = SMOTENC(categorical_features = bool_cols_ind, random_state=42)\n",
    "X_val_resampled, y_val_resampled = smote.fit_resample(X_Val, y_Val)\n",
    "synthetic_val = pd.concat([y_val_resampled, X_val_resampled], axis=1)\n",
    "print(\"Before SMOTENC:\", y_Val.value_counts())\n",
    "print(\"After SMOTENC:\", pd.Series(y_val_resampled).value_counts())"
   ]
  },
  {
   "cell_type": "code",
   "execution_count": null,
   "metadata": {},
   "outputs": [],
   "source": [
    "# SMOTE upsampling train set\n",
    "# Synthetic minority over-sampling technique for nominal and continuous features (SMOTENC)\n",
    "smote = SMOTENC(categorical_features = bool_cols_ind, random_state=42)\n",
    "X_train_resampled, y_train_resampled = smote.fit_resample(X_train, y_train)\n",
    "train = pd.concat([y_train, X_train], axis=1)\n",
    "print(\"Before SMOTENC:\", y_train.value_counts())\n",
    "print(\"After SMOTENC:\", pd.Series(y_train_resampled).value_counts())"
   ]
  },
  {
   "cell_type": "code",
   "execution_count": 13,
   "metadata": {},
   "outputs": [],
   "source": [
    "# Remove all train set samples from val\n",
    "synthetic_val = synthetic_val[~synthetic_val.isin(train).any(axis=1)]"
   ]
  },
  {
   "cell_type": "code",
   "execution_count": 14,
   "metadata": {},
   "outputs": [],
   "source": [
    "# Convert bool to int\n",
    "bool_columns = synthetic_val.select_dtypes(include='bool').columns\n",
    "synthetic_val[bool_columns] = synthetic_val[bool_columns].astype(int)\n",
    "train[bool_columns] = train[bool_columns].astype(int)"
   ]
  },
  {
   "cell_type": "code",
   "execution_count": 15,
   "metadata": {},
   "outputs": [],
   "source": [
    "# Save synthetic_val and sampled_train\n",
    "synthetic_val.to_pickle('data/smote_val.pkl')    \n",
    "train.to_pickle('data/sampled_train.pkl')"
   ]
  }
 ],
 "metadata": {
  "kernelspec": {
   "display_name": "Python 3",
   "language": "python",
   "name": "python3"
  },
  "language_info": {
   "codemirror_mode": {
    "name": "ipython",
    "version": 3
   },
   "file_extension": ".py",
   "mimetype": "text/x-python",
   "name": "python",
   "nbconvert_exporter": "python",
   "pygments_lexer": "ipython3",
   "version": "3.10.6"
  }
 },
 "nbformat": 4,
 "nbformat_minor": 2
}
