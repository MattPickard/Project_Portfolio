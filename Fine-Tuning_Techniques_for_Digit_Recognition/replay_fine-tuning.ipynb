{
 "cells": [
  {
   "cell_type": "code",
   "execution_count": 1,
   "metadata": {},
   "outputs": [],
   "source": [
    "import pickle\n",
    "import numpy as np\n",
    "from sklearn.model_selection import train_test_split\n",
    "from sklearn.metrics import accuracy_score\n",
    "from tensorflow.keras.models import load_model\n",
    "from tensorflow.keras.optimizers import Adam\n",
    "from keras.callbacks import EarlyStopping\n",
    "import matplotlib.pyplot as plt\n",
    "import seaborn as sns\n"
   ]
  },
  {
   "cell_type": "code",
   "execution_count": 2,
   "metadata": {},
   "outputs": [],
   "source": [
    "# Load full dataset\n",
    "with open('full_train.pkl', 'rb') as f:\n",
    "    full_train = pickle.load(f)  # Tuple (x_train, y_train)\n",
    "\n",
    "with open('full_test.pkl', 'rb') as f:\n",
    "    full_test = pickle.load(f)  # Tuple (x_test, y_test)\n",
    "\n",
    "train_images, train_labels = full_train\n",
    "test_images, test_labels = full_test\n",
    "\n",
    "# Reshape data to be 28x28x1 and normalize pixel values\n",
    "train_images = np.array(train_images).reshape((-1, 28, 28, 1)) / 255.0\n",
    "train_labels = np.array(train_labels)\n",
    "test_images = np.array(test_images).reshape((-1, 28, 28, 1)) / 255.0\n",
    "test_labels = np.array(test_labels)\n",
    "\n",
    "# Create validation set\n",
    "train_images, val_images, train_labels, val_labels = train_test_split(\n",
    "    train_images, train_labels, test_size=0.2, random_state=42)"
   ]
  },
  {
   "cell_type": "code",
   "execution_count": 30,
   "metadata": {},
   "outputs": [],
   "source": [
    "# Load the pre-trained model\n",
    "base_model = load_model('base_cnn_model.keras')\n",
    "\n",
    "for layer in base_model.layers[:-4]:  # Freeze all but the last 4 layers\n",
    "    layer.trainable = False\n",
    "\n",
    "base_model.compile(\n",
    "    optimizer=Adam(learning_rate=0.00003),\n",
    "    loss=\"sparse_categorical_crossentropy\",\n",
    "    metrics=[\"accuracy\"]\n",
    ")"
   ]
  },
  {
   "cell_type": "code",
   "execution_count": null,
   "metadata": {},
   "outputs": [],
   "source": [
    "# Fine-tune using full training dataset\n",
    "fine_tune_history = base_model.fit(\n",
    "    train_images, train_labels,\n",
    "    epochs=20,\n",
    "    validation_data=(val_images, val_labels),\n",
    "    callbacks=[EarlyStopping(monitor='val_loss', patience=3, restore_best_weights=True)]\n",
    ")\n",
    "\n",
    "# Evaluate accuracy on the full test set\n",
    "_, test_acc = base_model.evaluate(test_images, test_labels)\n",
    "print(f'Test accuracy: {test_acc}')"
   ]
  },
  {
   "cell_type": "code",
   "execution_count": 27,
   "metadata": {},
   "outputs": [],
   "source": [
    "#Saved Model Test accuracy: 0.9930999875068665\n",
    "base_model.save('replay_fine-tuned_model.keras')"
   ]
  },
  {
   "cell_type": "code",
   "execution_count": 3,
   "metadata": {},
   "outputs": [],
   "source": [
    "model = load_model('replay_fine-tuned_model.keras')"
   ]
  },
  {
   "cell_type": "code",
   "execution_count": 4,
   "metadata": {},
   "outputs": [
    {
     "name": "stdout",
     "output_type": "stream",
     "text": [
      "\u001b[1m313/313\u001b[0m \u001b[32m━━━━━━━━━━━━━━━━━━━━\u001b[0m\u001b[37m\u001b[0m \u001b[1m1s\u001b[0m 2ms/step - accuracy: 0.9908 - loss: 0.0307\n",
      "\u001b[1m313/313\u001b[0m \u001b[32m━━━━━━━━━━━━━━━━━━━━\u001b[0m\u001b[37m\u001b[0m \u001b[1m1s\u001b[0m 2ms/step\n",
      "\u001b[1m31/31\u001b[0m \u001b[32m━━━━━━━━━━━━━━━━━━━━\u001b[0m\u001b[37m\u001b[0m \u001b[1m0s\u001b[0m 2ms/step\n",
      "Full test accuracy: 0.9931\n",
      "Accuracy for digit 0: 0.9969\n"
     ]
    },
    {
     "data": {
      "image/png": "[encoded data removed]",
      "text/plain": [
       "<Figure size 800x600 with 1 Axes>"
      ]
     },
     "metadata": {},
     "output_type": "display_data"
    }
   ],
   "source": [
    "# Full test accuracy\n",
    "_, test_acc = model.evaluate(test_images, test_labels)\n",
    "\n",
    "# Accuracy for just digit '0'\n",
    "# Get predictions for all test data\n",
    "y_pred = np.argmax(model.predict(test_images), axis=1)\n",
    "\n",
    "# Find indices of digit '0' in test set\n",
    "zero_indices = np.where(test_labels == 0)[0]\n",
    "zero_images = test_images[zero_indices]\n",
    "zero_true_labels = test_labels[zero_indices]\n",
    "\n",
    "# Get predictions for digit '0' samples\n",
    "zero_pred = np.argmax(model.predict(zero_images), axis=1)\n",
    "\n",
    "# Calculate accuracy for digit '0'\n",
    "zero_accuracy = accuracy_score(zero_true_labels, zero_pred)\n",
    "\n",
    "print(f'Full test accuracy: {test_acc:.4f}')\n",
    "print(f'Accuracy for digit 0: {zero_accuracy:.4f}')\n",
    "\n",
    "# Calculate number of false positives, false negatives, true positives, and true negatives for digit '0'\n",
    "false_positives = np.sum((y_pred == 0) & (test_labels != 0))\n",
    "false_negatives = np.sum((y_pred != 0) & (test_labels == 0))\n",
    "true_positives = np.sum((y_pred == 0) & (test_labels == 0))\n",
    "true_negatives = np.sum((y_pred != 0) & (test_labels != 0))\n",
    "\n",
    "# Set up confusion matrix structure\n",
    "conf_matrix = np.array([[true_positives, false_negatives], [false_positives, true_negatives]])\n",
    "\n",
    "# Create confusion matrix\n",
    "plt.figure(figsize=(8, 6))\n",
    "sns.heatmap(conf_matrix, annot=True, fmt='d', cmap='Blues', \n",
    "            xticklabels=['Predicted 0', 'Predicted Other'], \n",
    "            yticklabels=['Actual 0', 'Actual Other'], \n",
    "            cbar=False)\n",
    "plt.title(\"'0' Digit Confusion Matrix\")\n",
    "plt.show()"
   ]
  }
 ],
 "metadata": {
  "kernelspec": {
   "display_name": "Python 3",
   "language": "python",
   "name": "python3"
  },
  "language_info": {
   "codemirror_mode": {
    "name": "ipython",
    "version": 3
   },
   "file_extension": ".py",
   "mimetype": "text/x-python",
   "name": "python",
   "nbconvert_exporter": "python",
   "pygments_lexer": "ipython3",
   "version": "3.10.6"
  }
 },
 "nbformat": 4,
 "nbformat_minor": 2
}
